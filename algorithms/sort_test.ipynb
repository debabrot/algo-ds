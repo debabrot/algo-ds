{
 "cells": [
  {
   "cell_type": "code",
   "execution_count": 4,
   "metadata": {},
   "outputs": [
    {
     "name": "stdout",
     "output_type": "stream",
     "text": [
      "0 0 [5, 6, 4, 3]\n",
      "0 1 [5, 4, 6, 3]\n",
      "0 2 [5, 4, 3, 6]\n",
      "1 0 [4, 5, 3, 6]\n",
      "1 1 [4, 3, 5, 6]\n",
      "2 0 [3, 4, 5, 6]\n"
     ]
    }
   ],
   "source": [
    "x = [6,5,4,3]\n",
    "arr = x\n",
    "num_elems = len(x)\n",
    "for i in range(num_elems):\n",
    "    swapped = False\n",
    "    for j in range(num_elems -i - 1):\n",
    "        if arr[j] > arr[j+1]:\n",
    "            arr[j], arr[j+1] = arr[j+1], arr[j]\n",
    "            swapped = True\n",
    "        print(i, j, x)\n",
    "    if swapped == False:\n",
    "        break\n",
    "    "
   ]
  },
  {
   "cell_type": "code",
   "execution_count": null,
   "metadata": {},
   "outputs": [],
   "source": []
  }
 ],
 "metadata": {
  "kernelspec": {
   "display_name": "default",
   "language": "python",
   "name": "default"
  },
  "language_info": {
   "codemirror_mode": {
    "name": "ipython",
    "version": 3
   },
   "file_extension": ".py",
   "mimetype": "text/x-python",
   "name": "python",
   "nbconvert_exporter": "python",
   "pygments_lexer": "ipython3",
   "version": "3.12.3"
  }
 },
 "nbformat": 4,
 "nbformat_minor": 2
}
